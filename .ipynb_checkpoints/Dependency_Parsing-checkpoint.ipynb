{
 "cells": [
  {
   "cell_type": "markdown",
   "id": "e23e129e",
   "metadata": {},
   "source": [
    "# Parsing Example"
   ]
  },
  {
   "cell_type": "code",
   "execution_count": 1,
   "id": "945ad4bd",
   "metadata": {},
   "outputs": [
    {
     "name": "stdout",
     "output_type": "stream",
     "text": [
      "1.13.0\n"
     ]
    }
   ],
   "source": [
    "import torch\n",
    "print(torch.__version__)"
   ]
  },
  {
   "cell_type": "code",
   "execution_count": 2,
   "id": "706d8d26",
   "metadata": {},
   "outputs": [],
   "source": [
    "from torch import nn\n",
    "from torch.utils.data import DataLoader\n",
    "import matplotlib.pyplot as plt\n",
    "import numpy as np\n",
    "import pandas as pd"
   ]
  },
  {
   "cell_type": "markdown",
   "id": "93ef47cd",
   "metadata": {},
   "source": [
    "# Analogy of parsing\n",
    "\n",
    "Words > Alphabet\n",
    "\n",
    "Parsing > How words contructed by consonant and vowel"
   ]
  },
  {
   "cell_type": "markdown",
   "id": "86fc41d3",
   "metadata": {},
   "source": [
    "## Data\n",
    "\n",
    "Word dataset is borrowed from Kaggle\n",
    "\n",
    "https://www.kaggle.com/datasets/rtatman/english-word-frequency"
   ]
  },
  {
   "cell_type": "code",
   "execution_count": 3,
   "id": "d01623f8",
   "metadata": {},
   "outputs": [],
   "source": [
    "df = pd.read_csv('unigram_freq.csv')"
   ]
  },
  {
   "cell_type": "code",
   "execution_count": 4,
   "id": "11ff547a",
   "metadata": {},
   "outputs": [
    {
     "data": {
      "text/html": [
       "<div>\n",
       "<style scoped>\n",
       "    .dataframe tbody tr th:only-of-type {\n",
       "        vertical-align: middle;\n",
       "    }\n",
       "\n",
       "    .dataframe tbody tr th {\n",
       "        vertical-align: top;\n",
       "    }\n",
       "\n",
       "    .dataframe thead th {\n",
       "        text-align: right;\n",
       "    }\n",
       "</style>\n",
       "<table border=\"1\" class=\"dataframe\">\n",
       "  <thead>\n",
       "    <tr style=\"text-align: right;\">\n",
       "      <th></th>\n",
       "      <th>word</th>\n",
       "      <th>count</th>\n",
       "    </tr>\n",
       "  </thead>\n",
       "  <tbody>\n",
       "    <tr>\n",
       "      <th>0</th>\n",
       "      <td>the</td>\n",
       "      <td>23135851162</td>\n",
       "    </tr>\n",
       "    <tr>\n",
       "      <th>1</th>\n",
       "      <td>of</td>\n",
       "      <td>13151942776</td>\n",
       "    </tr>\n",
       "    <tr>\n",
       "      <th>2</th>\n",
       "      <td>and</td>\n",
       "      <td>12997637966</td>\n",
       "    </tr>\n",
       "    <tr>\n",
       "      <th>3</th>\n",
       "      <td>to</td>\n",
       "      <td>12136980858</td>\n",
       "    </tr>\n",
       "    <tr>\n",
       "      <th>4</th>\n",
       "      <td>a</td>\n",
       "      <td>9081174698</td>\n",
       "    </tr>\n",
       "  </tbody>\n",
       "</table>\n",
       "</div>"
      ],
      "text/plain": [
       "  word        count\n",
       "0  the  23135851162\n",
       "1   of  13151942776\n",
       "2  and  12997637966\n",
       "3   to  12136980858\n",
       "4    a   9081174698"
      ]
     },
     "execution_count": 4,
     "metadata": {},
     "output_type": "execute_result"
    }
   ],
   "source": [
    "df.head()"
   ]
  },
  {
   "cell_type": "markdown",
   "id": "473f3832",
   "metadata": {},
   "source": [
    "We don't need frequency. So cut off count values from dataset"
   ]
  },
  {
   "cell_type": "code",
   "execution_count": 5,
   "id": "708133d1",
   "metadata": {},
   "outputs": [],
   "source": [
    "df = df.drop(labels='count',axis=1)"
   ]
  },
  {
   "cell_type": "code",
   "execution_count": 6,
   "id": "96ca9c81",
   "metadata": {
    "scrolled": true
   },
   "outputs": [
    {
     "data": {
      "text/html": [
       "<div>\n",
       "<style scoped>\n",
       "    .dataframe tbody tr th:only-of-type {\n",
       "        vertical-align: middle;\n",
       "    }\n",
       "\n",
       "    .dataframe tbody tr th {\n",
       "        vertical-align: top;\n",
       "    }\n",
       "\n",
       "    .dataframe thead th {\n",
       "        text-align: right;\n",
       "    }\n",
       "</style>\n",
       "<table border=\"1\" class=\"dataframe\">\n",
       "  <thead>\n",
       "    <tr style=\"text-align: right;\">\n",
       "      <th></th>\n",
       "      <th>word</th>\n",
       "    </tr>\n",
       "  </thead>\n",
       "  <tbody>\n",
       "    <tr>\n",
       "      <th>0</th>\n",
       "      <td>the</td>\n",
       "    </tr>\n",
       "    <tr>\n",
       "      <th>1</th>\n",
       "      <td>of</td>\n",
       "    </tr>\n",
       "    <tr>\n",
       "      <th>2</th>\n",
       "      <td>and</td>\n",
       "    </tr>\n",
       "    <tr>\n",
       "      <th>3</th>\n",
       "      <td>to</td>\n",
       "    </tr>\n",
       "    <tr>\n",
       "      <th>4</th>\n",
       "      <td>a</td>\n",
       "    </tr>\n",
       "    <tr>\n",
       "      <th>...</th>\n",
       "      <td>...</td>\n",
       "    </tr>\n",
       "    <tr>\n",
       "      <th>333328</th>\n",
       "      <td>gooek</td>\n",
       "    </tr>\n",
       "    <tr>\n",
       "      <th>333329</th>\n",
       "      <td>gooddg</td>\n",
       "    </tr>\n",
       "    <tr>\n",
       "      <th>333330</th>\n",
       "      <td>gooblle</td>\n",
       "    </tr>\n",
       "    <tr>\n",
       "      <th>333331</th>\n",
       "      <td>gollgo</td>\n",
       "    </tr>\n",
       "    <tr>\n",
       "      <th>333332</th>\n",
       "      <td>golgw</td>\n",
       "    </tr>\n",
       "  </tbody>\n",
       "</table>\n",
       "<p>333333 rows × 1 columns</p>\n",
       "</div>"
      ],
      "text/plain": [
       "           word\n",
       "0           the\n",
       "1            of\n",
       "2           and\n",
       "3            to\n",
       "4             a\n",
       "...         ...\n",
       "333328    gooek\n",
       "333329   gooddg\n",
       "333330  gooblle\n",
       "333331   gollgo\n",
       "333332    golgw\n",
       "\n",
       "[333333 rows x 1 columns]"
      ]
     },
     "execution_count": 6,
     "metadata": {},
     "output_type": "execute_result"
    }
   ],
   "source": [
    "df"
   ]
  },
  {
   "cell_type": "markdown",
   "id": "d1f9332b",
   "metadata": {},
   "source": [
    "# Word embedding\n",
    "\n",
    "Since we are using analogy between sentence and word, we should set some premise to argue.\n",
    "\n",
    "We have to show dependency in sentence along words. so we have to assume that there is similiar dependency between alphabets and word."
   ]
  },
  {
   "cell_type": "code",
   "execution_count": 35,
   "id": "85ca1c7c",
   "metadata": {},
   "outputs": [
    {
     "name": "stdout",
     "output_type": "stream",
     "text": [
      "[0.9263152595745104, 0.2520694683983069, 0.5964829206778587]\n"
     ]
    }
   ],
   "source": [
    "#Shallow embedding\n",
    "\n",
    "x = '3'\n",
    "\n",
    "def alp_encoder(x,dim):\n",
    "    embedding = np.random.rand(dim).tolist()\n",
    "    return embedding\n",
    "#if you want to use consonant/vowel feature, can add if sentence to add feature\n",
    "b = alp_encoder(x,3)\n",
    "print(b)"
   ]
  },
  {
   "cell_type": "code",
   "execution_count": 18,
   "id": "ff46cef2",
   "metadata": {},
   "outputs": [
    {
     "name": "stdout",
     "output_type": "stream",
     "text": [
      "<class 'pandas.core.frame.DataFrame'>\n",
      "RangeIndex: 333333 entries, 0 to 333332\n",
      "Data columns (total 1 columns):\n",
      " #   Column  Non-Null Count   Dtype \n",
      "---  ------  --------------   ----- \n",
      " 0   word    333331 non-null  object\n",
      "dtypes: object(1)\n",
      "memory usage: 2.5+ MB\n"
     ]
    }
   ],
   "source": [
    "df.info()"
   ]
  },
  {
   "cell_type": "code",
   "execution_count": 19,
   "id": "3df9dd46",
   "metadata": {},
   "outputs": [
    {
     "name": "stdout",
     "output_type": "stream",
     "text": [
      "abc\n",
      "a\n",
      "b\n",
      "c\n"
     ]
    }
   ],
   "source": [
    "a = 'abc'\n",
    "print(a)\n",
    "for i in a:\n",
    "    print(i)"
   ]
  },
  {
   "cell_type": "code",
   "execution_count": 20,
   "id": "b536e78e",
   "metadata": {},
   "outputs": [],
   "source": [
    "alp_set = []\n",
    "for i in df.word:\n",
    "    for j in i:\n",
    "        alp_set.append(j)\n",
    "        alp_set = list(set(alp_set))\n",
    "    if(len(alp_set)==26):\n",
    "        break"
   ]
  },
  {
   "cell_type": "code",
   "execution_count": 21,
   "id": "3974b7d1",
   "metadata": {},
   "outputs": [],
   "source": [
    "alp_set.sort()"
   ]
  },
  {
   "cell_type": "code",
   "execution_count": 22,
   "id": "83fd51ef",
   "metadata": {},
   "outputs": [
    {
     "name": "stdout",
     "output_type": "stream",
     "text": [
      "['a', 'b', 'c', 'd', 'e', 'f', 'g', 'h', 'i', 'j', 'k', 'l', 'm', 'n', 'o', 'p', 'q', 'r', 's', 't', 'u', 'v', 'w', 'x', 'y', 'z']\n"
     ]
    }
   ],
   "source": [
    "print(alp_set)"
   ]
  },
  {
   "cell_type": "code",
   "execution_count": 36,
   "id": "db94960e",
   "metadata": {},
   "outputs": [],
   "source": [
    "alp_emb=[]\n",
    "for i in alp_set:\n",
    "    alp_emb.append(alp_encoder(i,5))"
   ]
  },
  {
   "cell_type": "code",
   "execution_count": 38,
   "id": "1adc97cd",
   "metadata": {},
   "outputs": [
    {
     "name": "stdout",
     "output_type": "stream",
     "text": [
      "[0.40183791205796926, 0.5069520578912213, 0.7615309688860742, 0.34113169659305553, 0.4319906368303611]\n"
     ]
    }
   ],
   "source": [
    "print(alp_emb[0]) # a's embedding"
   ]
  },
  {
   "cell_type": "code",
   "execution_count": 39,
   "id": "48200133",
   "metadata": {},
   "outputs": [],
   "source": [
    "alpdf = pd.DataFrame(index=alp_set, data = alp_emb)"
   ]
  },
  {
   "cell_type": "code",
   "execution_count": 40,
   "id": "dde0b15a",
   "metadata": {},
   "outputs": [
    {
     "name": "stdout",
     "output_type": "stream",
     "text": [
      "          0         1         2         3         4\n",
      "a  0.401838  0.506952  0.761531  0.341132  0.431991\n",
      "b  0.622734  0.240157  0.277063  0.282669  0.063691\n",
      "c  0.196480  0.317566  0.836407  0.198343  0.267990\n",
      "d  0.851877  0.537936  0.608156  0.698547  0.145231\n",
      "e  0.685986  0.420061  0.389564  0.315431  0.650672\n",
      "f  0.927229  0.500740  0.937563  0.018958  0.865393\n",
      "g  0.075539  0.538502  0.048975  0.558895  0.939938\n",
      "h  0.077598  0.210521  0.291303  0.563479  0.044151\n",
      "i  0.238873  0.956410  0.240673  0.488475  0.726563\n",
      "j  0.995579  0.299535  0.288383  0.543469  0.802494\n",
      "k  0.495889  0.727617  0.771185  0.345596  0.510607\n",
      "l  0.991362  0.914903  0.121190  0.062097  0.963017\n",
      "m  0.227881  0.773187  0.380889  0.617775  0.958126\n",
      "n  0.609435  0.452570  0.168773  0.077320  0.442800\n",
      "o  0.312267  0.914924  0.182331  0.715338  0.751379\n",
      "p  0.402498  0.974586  0.333488  0.573895  0.009196\n",
      "q  0.518850  0.758852  0.637033  0.697441  0.115998\n",
      "r  0.441975  0.038056  0.576257  0.493024  0.965652\n",
      "s  0.252577  0.980498  0.490253  0.681176  0.107810\n",
      "t  0.428352  0.972376  0.799070  0.135215  0.470630\n",
      "u  0.433958  0.637102  0.645689  0.478370  0.626728\n",
      "v  0.102889  0.008703  0.693604  0.881933  0.018718\n",
      "w  0.915117  0.031262  0.956395  0.301717  0.989328\n",
      "x  0.070458  0.114478  0.386516  0.689993  0.114387\n",
      "y  0.476934  0.660385  0.809516  0.628134  0.375256\n",
      "z  0.465981  0.550285  0.122137  0.006146  0.195305\n"
     ]
    }
   ],
   "source": [
    "print(alpdf)"
   ]
  }
 ],
 "metadata": {
  "kernelspec": {
   "display_name": "egnn",
   "language": "python",
   "name": "egnn"
  },
  "language_info": {
   "codemirror_mode": {
    "name": "ipython",
    "version": 3
   },
   "file_extension": ".py",
   "mimetype": "text/x-python",
   "name": "python",
   "nbconvert_exporter": "python",
   "pygments_lexer": "ipython3",
   "version": "3.7.15"
  }
 },
 "nbformat": 4,
 "nbformat_minor": 5
}
