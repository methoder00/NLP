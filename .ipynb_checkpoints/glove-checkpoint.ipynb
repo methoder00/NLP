{
 "cells": [
  {
   "cell_type": "markdown",
   "id": "e5d7a755",
   "metadata": {},
   "source": [
    "## GloVe loss function"
   ]
  },
  {
   "cell_type": "code",
   "execution_count": 4,
   "id": "49910600",
   "metadata": {},
   "outputs": [],
   "source": [
    "import pandas as pd\n",
    "import numpy as np"
   ]
  },
  {
   "cell_type": "code",
   "execution_count": 5,
   "id": "58153e4f",
   "metadata": {},
   "outputs": [],
   "source": [
    "# 1. example dataset\n",
    "# Depending on how close alphabet located in keyboard\n",
    "words = [['qwe'],\n",
    "['qws'],\n",
    "['qas'],\n",
    "['qaz'],\n",
    "['wqa'],\n",
    "['wsa'],\n",
    "['wsd'],\n",
    "['wsx'],\n",
    "['wed'],\n",
    "['ewq'],\n",
    "['ews'],\n",
    "['eds'],\n",
    "['edc'],\n",
    "['aqw'],\n",
    "['asw'],\n",
    "['asd'],\n",
    "['asx'],\n",
    "['azx'],\n",
    "['swq'],\n",
    "['swe'],\n",
    "['saq'],\n",
    "['saz'],\n",
    "['sxz'],\n",
    "['sxc'],\n",
    "['sde'],\n",
    "['sdc'],\n",
    "['dew'],\n",
    "['dcx'],\n",
    "['dsa'],\n",
    "['dsw'],\n",
    "['dsx'],\n",
    "['zas'],\n",
    "['zxs'],\n",
    "['zaq'],\n",
    "['zxc'],\n",
    "['xza'],\n",
    "['xsa'],\n",
    "['xsd'],\n",
    "['xsw'],\n",
    "['xcd'],\n",
    "['cxz'],\n",
    "['cde'],\n",
    "['cxs'],\n",
    "['cds'],\n",
    "]\n",
    "df = pd.DataFrame(data=words, copy=True)"
   ]
  },
  {
   "cell_type": "code",
   "execution_count": 37,
   "id": "1f4b0897",
   "metadata": {},
   "outputs": [
    {
     "name": "stdout",
     "output_type": "stream",
     "text": [
      "['a', 'c', 'd', 'e', 'q', 's', 'w', 'x', 'z']\n",
      "[[16.  0.  2.  0.  6. 10.  4.  4.  6.]\n",
      " [ 0. 10.  6.  2.  0.  4.  0.  6.  2.]\n",
      " [ 2.  6. 16.  6.  0. 10.  4.  4.  0.]\n",
      " [ 0.  2.  6. 10.  2.  4.  6.  0.  0.]\n",
      " [ 6.  0.  0.  2. 10.  4.  6.  0.  2.]\n",
      " [10.  4. 10.  4.  4. 28. 10. 10.  4.]\n",
      " [ 4.  0.  4.  6.  6. 10. 16.  2.  0.]\n",
      " [ 4.  6.  4.  0.  0. 10.  2. 16.  6.]\n",
      " [ 6.  2.  0.  0.  2.  4.  0.  6. 10.]]\n"
     ]
    }
   ],
   "source": [
    "#1. Window based co-occurence by dataset\n",
    "apb = []\n",
    "for i in range(len(df[0])):\n",
    "    apb.extend(df[0][i])\n",
    "b = list(set(apb))\n",
    "b.sort()\n",
    "print(b)\n",
    "c = np.zeros((len(b),len(b)))\n",
    "#df내의 1개의 문자열을 대상으로\n",
    "#해당 문자열 내에 x가 있을 경우 > 탐색시작\n",
    "#해당 문자열 내에 y가 있을경우 > (x,y)에 value 추가\n",
    "for i in df[0]:\n",
    "    for j in b:\n",
    "        if j in i:\n",
    "            for k in b:\n",
    "                if k in i:\n",
    "                    c[b.index(j)][b.index(k)] += 1\n",
    "            else:\n",
    "                continue\n",
    "        else : \n",
    "            continue\n",
    "\n",
    "print(c)"
   ]
  },
  {
   "cell_type": "code",
   "execution_count": 46,
   "id": "4955e0ce",
   "metadata": {},
   "outputs": [
    {
     "name": "stdout",
     "output_type": "stream",
     "text": [
      "[[0.22292607 0.10141702 0.39071354]\n",
      " [0.99989158 0.49168444 0.83790882]\n",
      " [0.85545317 0.19828169 0.04206475]\n",
      " [0.56803923 0.6526022  0.19547941]\n",
      " [0.35396716 0.40317082 0.10253752]\n",
      " [0.74363343 0.7448059  0.81089738]\n",
      " [0.19010171 0.22843642 0.03001876]\n",
      " [0.9297077  0.11582696 0.73393035]\n",
      " [0.59588817 0.77779828 0.50274112]]\n",
      "___________\n",
      "[[0.04412131 0.00909066 0.44704691 0.45060938 0.27313202 0.77210252\n",
      "  0.67582216 0.17706078 0.29997962]\n",
      " [0.39934574 0.27884496 0.71758012 0.35424023 0.58757719 0.44479406\n",
      "  0.86214475 0.4551462  0.09286068]\n",
      " [0.57532711 0.30051713 0.26105431 0.85439202 0.61315233 0.54242572\n",
      "  0.53422222 0.6959753  0.12822013]]\n",
      "[0.22292607 0.10141702 0.39071354]\n",
      "[0.04412131 0.00909066 0.44704691 0.45060938 0.27313202 0.77210252\n",
      " 0.67582216 0.17706078 0.29997962]\n"
     ]
    }
   ],
   "source": [
    "#3. shallow embedding\n",
    "k = 3 \n",
    "#dimension of embedding\n",
    "u = np.random.rand(len(b),k)\n",
    "v = np.random.rand(k,len(b))\n",
    "\n",
    "print(u)\n",
    "print('___________')\n",
    "print(v)\n",
    "print(u[0])\n",
    "print(v[0])"
   ]
  },
  {
   "cell_type": "code",
   "execution_count": 53,
   "id": "a2948dba",
   "metadata": {},
   "outputs": [
    {
     "name": "stdout",
     "output_type": "stream",
     "text": [
      "1074.2274726465614\n"
     ]
    }
   ],
   "source": [
    "#f(X_ij)'s parameter : let f be linear function\n",
    "p1 = 1\n",
    "p2 = 1\n",
    "\n",
    "loss = 0\n",
    "for i in range(len(c[0])):\n",
    "    for j in range(len(c[0])):\n",
    "        if c[i][j]==0:\n",
    "            continue\n",
    "        else:\n",
    "            loss += (p1*c[i][j]+p2)*(np.matmul(u[j],v.transpose()[i])-np.log(c[i][j]))**2\n",
    "print(loss)"
   ]
  },
  {
   "cell_type": "code",
   "execution_count": null,
   "id": "58f99f9a",
   "metadata": {},
   "outputs": [],
   "source": []
  }
 ],
 "metadata": {
  "kernelspec": {
   "display_name": "nlp",
   "language": "python",
   "name": "nlp"
  },
  "language_info": {
   "codemirror_mode": {
    "name": "ipython",
    "version": 3
   },
   "file_extension": ".py",
   "mimetype": "text/x-python",
   "name": "python",
   "nbconvert_exporter": "python",
   "pygments_lexer": "ipython3",
   "version": "3.7.15"
  }
 },
 "nbformat": 4,
 "nbformat_minor": 5
}
