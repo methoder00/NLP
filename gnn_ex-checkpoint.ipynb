{
 "cells": [
  {
   "cell_type": "markdown",
   "id": "2e6b9396",
   "metadata": {},
   "source": [
    "# Dataset 불러오기"
   ]
  },
  {
   "cell_type": "code",
   "execution_count": 2,
   "id": "8bdec116",
   "metadata": {},
   "outputs": [
    {
     "name": "stdout",
     "output_type": "stream",
     "text": [
      "1.13.0\n"
     ]
    }
   ],
   "source": [
    "import torch\n",
    "print(torch.__version__)"
   ]
  },
  {
   "cell_type": "code",
   "execution_count": 34,
   "id": "52048426",
   "metadata": {},
   "outputs": [],
   "source": [
    "import numpy as np\n",
    "import pandas as pd\n",
    "import copy\n",
    "from tqdm import tqdm\n",
    "from torch_geometric.data import Data, InMemoryDataset, DataLoader\n",
    "import torch.nn.functional as F"
   ]
  },
  {
   "cell_type": "code",
   "execution_count": 6,
   "id": "3582d0d6",
   "metadata": {},
   "outputs": [],
   "source": [
    "device = 'cuda' if torch.cuda.is_available() else 'cpu'"
   ]
  },
  {
   "cell_type": "code",
   "execution_count": 24,
   "id": "7d8fdc49",
   "metadata": {},
   "outputs": [],
   "source": [
    "train = pd.read_csv(\"C:/mole/train.csv\", index_col=0)  \n",
    "test = pd.read_csv(\"C:/mole/test.csv\", index_col=0)\n",
    "\n",
    "#index_col=0(false) : do not use first column as index"
   ]
  },
  {
   "cell_type": "code",
   "execution_count": 25,
   "id": "b92c601f",
   "metadata": {},
   "outputs": [
    {
     "name": "stdout",
     "output_type": "stream",
     "text": [
      "                                                        SMILES      mu\n",
      "Id                                                                    \n",
      "train_0      [H]N1C(=O)O[C@@](C([H])([H])[H])(C([H])([H])C(...  4.7864\n",
      "train_1      [H]O/C1=C2C(=C(/[H])N1[H])/C([H])([H])C([H])([...  0.7142\n",
      "train_2      [H][N-]C1=C([H])[C@H](N([H])C([H])([H])[H])C(=...  1.8529\n",
      "train_3      [H]OC([H])([H])[C@]1(C([H])([H])[H])O[C@@]2([H...  1.9303\n",
      "train_4      [H]C1=C([H])[C@@]2([H])C([H])([H])[C@@]2([H])[...  0.3210\n",
      "...                                                        ...     ...\n",
      "train_10979  [H]N(C(=O)[C@]1([H])N([H])C1([H])[H])C([H])([H...  3.5551\n",
      "train_10980  [H]O[C@@]([H])(C#N)C([H])([H])C([H])([H])C(=O)...  5.6835\n",
      "train_10981  [H]O[C@]([H])(C([H])([H])[H])[C@@]1([H])N([H])...  4.3993\n",
      "train_10982  [H]C(=O)[C@@]([H])(C#CC([H])([H])[H])C([H])([H...  3.8385\n",
      "train_10983  [H]C1=NC(=O)C(C([H])([H])[H])=C([H])N1C([H])([...  7.4259\n",
      "\n",
      "[10984 rows x 2 columns]\n"
     ]
    }
   ],
   "source": [
    "print(train)"
   ]
  },
  {
   "cell_type": "markdown",
   "id": "95c74e41",
   "metadata": {},
   "source": [
    "csv 파일 내에는 해당 molecule의 smiles string과 y(real dipole moment)값이 담겨있음"
   ]
  },
  {
   "cell_type": "code",
   "execution_count": 26,
   "id": "c44024a2",
   "metadata": {},
   "outputs": [],
   "source": [
    "d = torch.load(f\"C:/mole/mol/train/train_1.pt\")"
   ]
  },
  {
   "cell_type": "code",
   "execution_count": 27,
   "id": "b167e804",
   "metadata": {},
   "outputs": [
    {
     "name": "stdout",
     "output_type": "stream",
     "text": [
      "Data(x=[18, 1], edge_index=[2, 38], edge_attr=[38, 1], y=[1], pos=[18, 3], smiles='[H]O/C1=C2C(=C(/[H])N1[H])/C([H])([H])C([H])([H])C/2([H])[H]')\n"
     ]
    }
   ],
   "source": [
    "print(d)"
   ]
  },
  {
   "cell_type": "code",
   "execution_count": 55,
   "id": "9347775f",
   "metadata": {},
   "outputs": [
    {
     "name": "stderr",
     "output_type": "stream",
     "text": [
      "100%|██████████████████████████████████████████████████████████████████████████| 10984/10984 [00:02<00:00, 4581.02it/s]\n",
      "100%|████████████████████████████████████████████████████████████████████████████| 1217/1217 [00:00<00:00, 5263.23it/s]\n"
     ]
    }
   ],
   "source": [
    "train_list = list()\n",
    "test_list = list()\n",
    "\n",
    "for idx in tqdm(train.index):\n",
    "    d = torch.load(f\"C:/mole/mol/train/{idx}.pt\")\n",
    "    train_list.append(d)\n",
    "    \n",
    "for idx in tqdm(test.index):\n",
    "    d = torch.load(f\"C:/mole/mol/test/{idx}.pt\")\n",
    "    test_list.append(d)\n",
    "    "
   ]
  },
  {
   "cell_type": "markdown",
   "id": "2e0a001e",
   "metadata": {},
   "source": [
    "# GNN Model"
   ]
  },
  {
   "cell_type": "code",
   "execution_count": 44,
   "id": "c093c521",
   "metadata": {},
   "outputs": [],
   "source": [
    "from torch_geometric.nn import GATConv\n",
    "\n",
    "class single_layer(torch.nn.Module):\n",
    "    def __init__(self, input_dim, hidden_dim, output_dim, dropout):\n",
    "        \n",
    "        super(single_layer, self).__init__()\n",
    "        \n",
    "        self.convs = torch.nn.ModuleList(\n",
    "            [GATConv(in_channels = input_dim, out_channels = output_dim, dropout = dropout)] +\n",
    "            [GATConv(in_channels = input_dim, out_channels = output_dim, dropout = dropout) for i in range(num_layers-2)] +\n",
    "            [GATConv(in_channels = input_dim, out_channels = output_dim, dropout = dropout)]\n",
    "        )\n",
    "        self.bns = torch.nn.ModuleList([\n",
    "            torch.nn.BatchNorm1d(num_features=hidden_dim) for i in range(num_layers-1)\n",
    "        ])\n",
    "    \n",
    "    def reset_parameters(self):\n",
    "        for conv in self.convs:\n",
    "            conv.reset_parameters()\n",
    "        for bn in self.bns:\n",
    "            bn.reset_parameters()\n",
    "    \n",
    "    def forward(self, x, adj_t):\n",
    "        out = None\n",
    "        for conv, bn in zip(self.convs[:-1], self.bns):\n",
    "            x1 = F.relu(bn(conv(x, adj_t)))\n",
    "            if self.training:     #nn.module class method : true = train, false = evaluation\n",
    "                x1 = F.dropout(x1, p=self.dropout) # there's no need to drop out when evaluation\n",
    "            x = x1\n",
    "        out = self.convs[-1](x, adj_t)\n",
    "        \n",
    "        return out"
   ]
  },
  {
   "cell_type": "code",
   "execution_count": 53,
   "id": "28803ae5",
   "metadata": {},
   "outputs": [
    {
     "name": "stdout",
     "output_type": "stream",
     "text": [
      "Training Data Size : 10984\n"
     ]
    }
   ],
   "source": [
    "print(f\"Training Data Size : {len(train_list)}\")"
   ]
  },
  {
   "cell_type": "code",
   "execution_count": 58,
   "id": "8de95544",
   "metadata": {},
   "outputs": [
    {
     "name": "stdout",
     "output_type": "stream",
     "text": [
      "Training Data Size : 9000\n",
      "Validation Data Size : 1984\n",
      "Test Data Size : 1217\n"
     ]
    }
   ],
   "source": [
    "from torch.utils.data import random_split\n",
    "train2_list, valid_list = random_split(train_list, [9000, 1984])\n",
    "\n",
    "print(f\"Training Data Size : {len(train2_list)}\")\n",
    "print(f\"Validation Data Size : {len(valid_list)}\")\n",
    "print(f\"Test Data Size : {len(test_list)}\")"
   ]
  },
  {
   "cell_type": "code",
   "execution_count": 59,
   "id": "315ada8e",
   "metadata": {},
   "outputs": [],
   "source": [
    "from torch_geometric.nn import global_mean_pool\n",
    "from ogb.graphproppred.mol_encoder import AtomEncoder\n",
    "\n",
    "class totalnet(torch.nn.Module):\n",
    "    def __init__(self, input_dim, hidden_dim, output_dim, num_layers, dropout):\n",
    "        super(totalnet, self).__init__()\n",
    "        self.layer = single_layer(input_dim, hidden_dim, output_dim, dropout)\n",
    "        self.header = global_mean_pool\n",
    "        self.linear = torch.nn.Linear(output_dim, 1)\n",
    "        self.node_encoder = AtomEncoder(input_dim)\n",
    "        \n",
    "        def reset_parameters(self):\n",
    "            self.layer.reset_parameter()\n",
    "            self.linear.reset_parameter()\n",
    "            \n",
    "        def forward(self, batched_data):\n",
    "            x, edge_index, pos, batch = batched_data.x, batched_data.edge_index, batched_data.pos, batched_data.batch\n",
    "            #batch : where data is batched(labelling)\n",
    "            embed = self.node_encoder(x)\n",
    "            embed = self.layer(embed, edge_index)\n",
    "            embed = embed * pos\n",
    "            features = self.header(embed, batch)\n",
    "            out = self.linear(features)\n",
    "            return out"
   ]
  },
  {
   "cell_type": "code",
   "execution_count": 60,
   "id": "2204b6bb",
   "metadata": {},
   "outputs": [],
   "source": [
    "train_loader = DataLoader(train2_list, batch_size=32, shuffle=True, num_workers=0)\n",
    "valid_loader = DataLoader(valid_list, batch_size=128, shuffle=False, num_workers=0)\n",
    "test_loader = DataLoader(test_list, batch_size=128, shuffle=False, num_workers=0)"
   ]
  },
  {
   "cell_type": "code",
   "execution_count": 62,
   "id": "224d37a8",
   "metadata": {},
   "outputs": [],
   "source": [
    "def train(model, device, data_loader, optimizer, loss_fn):\n",
    "    model.train() #torch.nn.module class mothod\n",
    "    \n",
    "    y_true = []\n",
    "    y_pred = []\n",
    "    loss = 0\n",
    "    \n",
    "    for step, batch in enumerate(tqdm(data_loader, desc=\"iteration\")):\n",
    "        batch = batch.to(device)\n",
    "        optimizer.zero_grad()\n",
    "        loss = loss_fn(out, batch.y.float())\n",
    "        loss.backward()\n",
    "        optimizer.step()\n",
    "        \n",
    "        if batch.x.shape[0] == 1:\n",
    "            pass\n",
    "        else:\n",
    "            with torch.no_grad():\n",
    "                pred = model(batch)\n",
    "            y_true.append(batch.y.detach().cpu())\n",
    "            y_pred.append(pred.detach().cpu())\n",
    "    \n",
    "    y_true = torch.cat(y_true, dim=0).numpy()\n",
    "    y_pred = torch.cat(y_pred, dim=0).numpy()\n",
    "    \n",
    "    #문서작성용 dictionary 변환\n",
    "    input_dict = {\"y_true\":y_true,\"y_pred\":y_pred}\n",
    "    \n",
    "    return loss.item()"
   ]
  },
  {
   "cell_type": "code",
   "execution_count": 63,
   "id": "a15e3665",
   "metadata": {},
   "outputs": [],
   "source": [
    "def eval(model, device, DataLoader):\n",
    "    model.eval()     #torch.nn.module class mothod\n",
    "    y_true = []\n",
    "    y_pred = []\n",
    "    \n",
    "    for step, batch in enumerate(loader):\n",
    "        batch = batch.to(device)\n",
    "        \n",
    "        if batch.x.shape[0] == 1:\n",
    "            pass\n",
    "        else:\n",
    "            with torch.no_grad():\n",
    "                pred = model(batch)\n",
    "            y_true.append(batch.y.view(pred.shape).detach().cpu())\n",
    "            y_pred.append(pred.detach().cpu())\n",
    "    \n",
    "    y_true = torch.cat(y_true, dim=0).numpy()\n",
    "    y_pred = torch.cat(y_pred, dim=0).numpy()\n",
    "    \n",
    "    input_dict = {\"y_true\":y_true,\"y_pred\":y_pred}\n",
    "    \n",
    "    print(f\"ValidError = {evaluator(y_true, y_pred)}\")\n",
    "    \n"
   ]
  },
  {
   "cell_type": "code",
   "execution_count": 64,
   "id": "f263dedb",
   "metadata": {},
   "outputs": [],
   "source": [
    "def evaluator(y_true, y_pred):\n",
    "    acc = np.mean(np.sqrt((y_true - y_pred)**2))\n",
    "    \n",
    "    return acc"
   ]
  },
  {
   "cell_type": "code",
   "execution_count": 65,
   "id": "c78d857e",
   "metadata": {},
   "outputs": [
    {
     "ename": "NameError",
     "evalue": "name 'model' is not defined",
     "output_type": "error",
     "traceback": [
      "\u001b[1;31m---------------------------------------------------------------------------\u001b[0m",
      "\u001b[1;31mNameError\u001b[0m                                 Traceback (most recent call last)",
      "\u001b[1;32m~\\AppData\\Local\\Temp\\ipykernel_12200\\3655461291.py\u001b[0m in \u001b[0;36m<module>\u001b[1;34m\u001b[0m\n\u001b[0;32m      1\u001b[0m \u001b[1;32mimport\u001b[0m \u001b[0mcopy\u001b[0m\u001b[1;33m\u001b[0m\u001b[1;33m\u001b[0m\u001b[0m\n\u001b[0;32m      2\u001b[0m \u001b[1;33m\u001b[0m\u001b[0m\n\u001b[1;32m----> 3\u001b[1;33m \u001b[0mmodel\u001b[0m\u001b[1;33m.\u001b[0m\u001b[0mreset_parameters\u001b[0m\u001b[1;33m(\u001b[0m\u001b[1;33m)\u001b[0m\u001b[1;33m\u001b[0m\u001b[1;33m\u001b[0m\u001b[0m\n\u001b[0m\u001b[0;32m      4\u001b[0m \u001b[1;33m\u001b[0m\u001b[0m\n\u001b[0;32m      5\u001b[0m \u001b[0moptimizer\u001b[0m \u001b[1;33m=\u001b[0m \u001b[0mtorch\u001b[0m\u001b[1;33m.\u001b[0m\u001b[0moptim\u001b[0m\u001b[1;33m.\u001b[0m\u001b[0mAdam\u001b[0m\u001b[1;33m(\u001b[0m\u001b[0mmodel\u001b[0m\u001b[1;33m.\u001b[0m\u001b[0mparameters\u001b[0m\u001b[1;33m(\u001b[0m\u001b[1;33m)\u001b[0m\u001b[1;33m,\u001b[0m \u001b[0mlr\u001b[0m\u001b[1;33m=\u001b[0m\u001b[0margs\u001b[0m\u001b[1;33m[\u001b[0m\u001b[1;34m'lr'\u001b[0m\u001b[1;33m]\u001b[0m\u001b[1;33m,\u001b[0m \u001b[0mweight_decay\u001b[0m\u001b[1;33m=\u001b[0m\u001b[1;36m0.001\u001b[0m\u001b[1;33m)\u001b[0m\u001b[1;33m\u001b[0m\u001b[1;33m\u001b[0m\u001b[0m\n",
      "\u001b[1;31mNameError\u001b[0m: name 'model' is not defined"
     ]
    }
   ],
   "source": [
    "import copy\n",
    "\n",
    "model.reset_parameters()\n",
    "\n",
    "optimizer = torch.optim.Adam(model.parameters(), lr=args['lr'], weight_decay=0.001)\n",
    "loss_fn = torch.nn.MSELoss()\n",
    "scheduler = optim.lr_scheduler.ExponentialLR(optimizer, gamma= 0.99) \n",
    "\n",
    "best_model = None\n",
    "best_valid_acc = 0\n",
    "\n",
    "for epoch in range(1, 1 + args[\"epochs\"]):\n",
    "    print('Training...')\n",
    "    loss = train_test(model, device, train_test_loader, optimizer, loss_fn)   \n",
    "    train_result = eval(model, device, valid_loader)\n",
    "    print(f\"epoch = {epoch}\")\n",
    "    scheduler.step()"
   ]
  },
  {
   "cell_type": "code",
   "execution_count": null,
   "id": "515c343d",
   "metadata": {},
   "outputs": [],
   "source": []
  }
 ],
 "metadata": {
  "kernelspec": {
   "display_name": "egnn",
   "language": "python",
   "name": "egnn"
  },
  "language_info": {
   "codemirror_mode": {
    "name": "ipython",
    "version": 3
   },
   "file_extension": ".py",
   "mimetype": "text/x-python",
   "name": "python",
   "nbconvert_exporter": "python",
   "pygments_lexer": "ipython3",
   "version": "3.7.15"
  }
 },
 "nbformat": 4,
 "nbformat_minor": 5
}
